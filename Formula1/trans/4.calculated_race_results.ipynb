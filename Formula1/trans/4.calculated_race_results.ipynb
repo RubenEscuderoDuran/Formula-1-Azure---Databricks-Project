{
 "cells": [
  {
   "cell_type": "code",
   "execution_count": 0,
   "metadata": {
    "application/vnd.databricks.v1+cell": {
     "cellMetadata": {
      "byteLimit": 2048000,
      "rowLimit": 10000
     },
     "inputWidgets": {},
     "nuid": "84012a65-ab44-4852-a731-98d5bb3e9832",
     "showTitle": false,
     "tableResultSettingsMap": {},
     "title": ""
    }
   },
   "outputs": [],
   "source": [
    "dbutils.widgets.text('p_file_date', '2021-03-21')\n",
    "v_file_date = dbutils.widgets.get('p_file_date')"
   ]
  },
  {
   "cell_type": "code",
   "execution_count": 0,
   "metadata": {
    "application/vnd.databricks.v1+cell": {
     "cellMetadata": {
      "byteLimit": 2048000,
      "rowLimit": 10000
     },
     "inputWidgets": {},
     "nuid": "a545da92-1d89-4ce4-8be3-6d913b2951ad",
     "showTitle": false,
     "tableResultSettingsMap": {},
     "title": ""
    }
   },
   "outputs": [],
   "source": [
    "spark.sql(f\"\"\"\n",
    "              CREATE TABLE IF NOT EXISTS f1_presentation.calculated_race_results\n",
    "              (\n",
    "                  race_year INT,\n",
    "                  team_name STRING,\n",
    "                  driver_id INT,\n",
    "                  driver_name STRING,\n",
    "                  race_id INT,\n",
    "                  position INT,\n",
    "                  points INT,\n",
    "                  calculated_points INT,\n",
    "                  created_date TIMESTAMP,\n",
    "                  updated_date TIMESTAMP\n",
    "              )\n",
    "              USING DELTA\n",
    "\"\"\")"
   ]
  },
  {
   "cell_type": "code",
   "execution_count": 0,
   "metadata": {
    "application/vnd.databricks.v1+cell": {
     "cellMetadata": {
      "byteLimit": 2048000,
      "rowLimit": 10000
     },
     "inputWidgets": {},
     "nuid": "cb54670a-5f2e-4e0a-96fc-e51748dc7120",
     "showTitle": false,
     "tableResultSettingsMap": {},
     "title": ""
    }
   },
   "outputs": [],
   "source": [
    "spark.sql(f\"\"\"\n",
    "            CREATE OR REPLACE TEMP VIEW race_results_updated\n",
    "            AS \n",
    "            SELECT rc.race_year, \n",
    "                co.name AS team_name,\n",
    "                dr.driver_id,\n",
    "                dr.name AS driver_name, \n",
    "                rc.race_id,\n",
    "                re.position,\n",
    "                re.points,\n",
    "                11 - re.position AS calculated_points \n",
    "            FROM f1_processed.results re \n",
    "            JOIN f1_processed.drivers dr ON (re.driver_id = dr.driver_id)\n",
    "            JOIN f1_processed.constructors co ON (re.constructor_id = co.constructor_id)\n",
    "            JOIN f1_processed.races rc ON (re.race_id = rc.race_id)\n",
    "            WHERE re.position <= 10\n",
    "              AND re.file_date = '{v_file_date}'\n",
    "\"\"\")"
   ]
  },
  {
   "cell_type": "code",
   "execution_count": 0,
   "metadata": {
    "application/vnd.databricks.v1+cell": {
     "cellMetadata": {
      "byteLimit": 2048000,
      "rowLimit": 10000
     },
     "inputWidgets": {},
     "nuid": "8529cad6-a3e5-4a74-9133-f1be7e2ca9b8",
     "showTitle": false,
     "tableResultSettingsMap": {},
     "title": ""
    }
   },
   "outputs": [],
   "source": [
    "spark.sql(f\"\"\"\n",
    "MERGE INTO f1_presentation.calculated_race_results tgt\n",
    "USING race_results_updated upd\n",
    "ON (tgt.driver_id = upd.driver_id AND tgt.race_id = upd.race_id)\n",
    "WHEN MATCHED THEN\n",
    "  UPDATE SET\n",
    "    tgt.position = upd.position,\n",
    "    tgt.points = upd.points,\n",
    "    tgt.calculated_points = upd.calculated_points,\n",
    "    tgt.updated_date = current_timestamp\n",
    "WHEN NOT MATCHED\n",
    "  THEN INSERT (race_year, team_name, driver_id, driver_name, race_id, position, points, calculated_points, created_date)\n",
    "       VALUES (race_year, team_name, driver_id, driver_name, race_id, position, points, calculated_points, current_timestamp)\n",
    "\"\"\")"
   ]
  },
  {
   "cell_type": "code",
   "execution_count": 0,
   "metadata": {
    "application/vnd.databricks.v1+cell": {
     "cellMetadata": {
      "byteLimit": 2048000,
      "implicitDf": true,
      "rowLimit": 10000
     },
     "inputWidgets": {},
     "nuid": "bb19778a-b87c-499a-b731-5c3e3a1da6fd",
     "showTitle": false,
     "tableResultSettingsMap": {},
     "title": ""
    }
   },
   "outputs": [],
   "source": [
    "%sql select count(1) from race_results_updated;"
   ]
  },
  {
   "cell_type": "code",
   "execution_count": 0,
   "metadata": {
    "application/vnd.databricks.v1+cell": {
     "cellMetadata": {
      "byteLimit": 2048000,
      "implicitDf": true,
      "rowLimit": 10000
     },
     "inputWidgets": {},
     "nuid": "93a7a7a5-cf43-4623-9b99-2601adead2b4",
     "showTitle": false,
     "tableResultSettingsMap": {},
     "title": ""
    }
   },
   "outputs": [],
   "source": [
    "%sql select count(1) from f1_presentation.calculated_race_results;"
   ]
  },
  {
   "cell_type": "markdown",
   "metadata": {
    "application/vnd.databricks.v1+cell": {
     "cellMetadata": {
      "byteLimit": 2048000,
      "rowLimit": 10000
     },
     "inputWidgets": {},
     "nuid": "1d9b9685-169d-4c93-a09d-cb575b46573f",
     "showTitle": false,
     "tableResultSettingsMap": {},
     "title": ""
    }
   },
   "source": [
    "Aplicamos dos condiciones: \n",
    "- 11 - re.position AS calculated_points : como no se usaba el mismo formato de puntos que se usa actualmente, se asignó que cada piloto que ganara una carrera, por ejemplo anterior, se le restaría su posición. En este caso, Ayrton Senna ganó una carrera y sumo 10 puntos, al aplicar la condición, se queda con un total de 10 puntos y se aplicó la misma condición para los pilotos actuales.\n",
    "- WHERE re.position <= 10 : solo considera los primeros 10 porque son los pilotos que suman puntos. "
   ]
  }
 ],
 "metadata": {
  "application/vnd.databricks.v1+notebook": {
   "computePreferences": null,
   "dashboards": [],
   "environmentMetadata": {
    "base_environment": "",
    "environment_version": "3"
   },
   "inputWidgetPreferences": null,
   "language": "python",
   "notebookMetadata": {
    "mostRecentlyExecutedCommandWithImplicitDF": {
     "commandId": 5367500639061242,
     "dataframes": [
      "_sqldf"
     ]
    },
    "pythonIndentUnit": 4
   },
   "notebookName": "4.calculated_race_results",
   "widgets": {
    "p_file_date": {
     "currentValue": "2021-04-18",
     "nuid": "29f45cf3-c6e0-4f23-99e1-11ad53f1d2e8",
     "typedWidgetInfo": {
      "autoCreated": false,
      "defaultValue": "2021-03-21",
      "label": null,
      "name": "p_file_date",
      "options": {
       "widgetDisplayType": "Text",
       "validationRegex": null
      },
      "parameterDataType": "String"
     },
     "widgetInfo": {
      "widgetType": "text",
      "defaultValue": "2021-03-21",
      "label": null,
      "name": "p_file_date",
      "options": {
       "widgetType": "text",
       "autoCreated": null,
       "validationRegex": null
      }
     }
    }
   }
  },
  "language_info": {
   "name": "python"
  }
 },
 "nbformat": 4,
 "nbformat_minor": 0
}
